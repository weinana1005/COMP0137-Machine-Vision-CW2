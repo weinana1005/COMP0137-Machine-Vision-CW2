{
 "cells": [
  {
   "cell_type": "markdown",
   "metadata": {},
   "source": [
    "Edited by Mohamed Sayed on 27/11/2019. All errors are now my own.\n",
    "# Practical 7 - Part 1A\n",
    "\n",
    "The aim of part 1A is to calculate the homography that best maps two sets of points to one another.  We will (eventually) use this for creating panoramas, and for calculating the 3D pose of planes.  You should use this\n",
    "template for your code and fill in the missing sections marked \"TODO\"\n"
   ]
  },
  {
   "cell_type": "markdown",
   "metadata": {},
   "source": [
    "## Import libraries "
   ]
  },
  {
   "cell_type": "code",
   "metadata": {
    "ExecuteTime": {
     "end_time": "2024-12-23T13:39:33.798292Z",
     "start_time": "2024-12-23T13:39:32.469816Z"
    }
   },
   "source": [
    "%matplotlib inline\n",
    "import os\n",
    "import numpy as np\n",
    "import matplotlib.pyplot as plt\n",
    "import scipy.io as sio\n"
   ],
   "outputs": [],
   "execution_count": 2
  },
  {
   "cell_type": "markdown",
   "metadata": {},
   "source": [
    "## Test case formulation\n",
    "\n",
    "To start with, let's set up some start points `pts1Cart` and a homography, `H`, that we can use to generate target points `pts2Cart`. We'll also add some noise to `pts2Cart` to simulate a real world environment. The challenge is to find the same homography, or as close as noise allows, given `pts1Cart` and `pts2Cart`.\n",
    "\n",
    "__NOTE:__ It may be helpful to set `noiseLevel` to 0 to start with so that you can check if your solution is spot on while debugging. Make sure you set it back to some value, here we use 4, when you're confident your solution works."
   ]
  },
  {
   "cell_type": "code",
   "metadata": {
    "ExecuteTime": {
     "end_time": "2024-12-23T13:39:35.020395Z",
     "start_time": "2024-12-23T13:39:35.009726Z"
    }
   },
   "source": [
    "# Define a set of two-dimensional Cartesian points\n",
    "pts1Cart = np.array([[240.5000, 16.8351, 33.5890, 164.2696, 149.1911],\n",
    "                    [248.8770, 193.5890, 251.3901, 168.4581, 228.7723]])\n",
    "\n",
    "# Convert points into homogeneous representation\n",
    "pts1Hom = np.concatenate((pts1Cart, np.ones((1,pts1Cart.shape[1]))), axis=0)\n",
    "\n",
    "# Define a homography\n",
    "H = np.array([[0.6, 0.7, -100.],\n",
    "              [1.0, 0.6, 50.],\n",
    "              [0.001, 0.002, 1.0]])\n",
    "\n",
    "# Apply a homography to the points\n",
    "pts2Hom = np.matmul(H,pts1Hom)\n",
    "\n",
    "# Convert back to Cartesian coordinates\n",
    "pts2Cart = pts2Hom[0:2,:] / np.tile([pts2Hom[2,:]],(2,1))\n",
    "\n",
    "# Add a small amount of noise. Set this to zero to begin with to see if your homography solution is spot on.\n",
    "noiseLevel = 2.0\n",
    "pts2Cart = pts2Cart + np.random.normal(0, noiseLevel, pts2Cart.shape)"
   ],
   "outputs": [],
   "execution_count": 3
  },
  {
   "cell_type": "markdown",
   "metadata": {},
   "source": [
    "## Plotting\n",
    "\n",
    "Let's plot the the first original set of points, `pts1Cart`, in blue and the second set of points, `pts2Cart`, in red. "
   ]
  },
  {
   "cell_type": "code",
   "metadata": {
    "ExecuteTime": {
     "end_time": "2024-12-23T13:39:36.150276Z",
     "start_time": "2024-12-23T13:39:36.025960Z"
    }
   },
   "source": [
    "# Plot a green line between pairs of start points (blue) and transformed points (red).|\n",
    "nPoint = pts1Cart.shape[1]\n",
    "for cPoint in range(0, nPoint):\n",
    "    plt.plot([pts1Cart[0,cPoint], pts2Cart[0,cPoint]], [pts1Cart[1,cPoint], pts2Cart[1,cPoint]],'g-')\n",
    "    plt.plot(pts1Cart[0,cPoint],pts1Cart[1,cPoint],'b.', pts2Cart[0,cPoint],pts2Cart[1,cPoint],'r.') \n",
    "\n",
    "plt.show()"
   ],
   "outputs": [
    {
     "data": {
      "text/plain": [
       "<Figure size 640x480 with 1 Axes>"
      ],
      "image/png": "[encoded data removed]"
     },
     "metadata": {},
     "output_type": "display_data"
    }
   ],
   "execution_count": 4
  },
  {
   "metadata": {},
   "cell_type": "markdown",
   "source": "The plot above shows the starting points(blue) and the transformed points(red)."
  },
  {
   "cell_type": "markdown",
   "metadata": {},
   "source": [
    "## Homography estimation time!\n",
    "\n",
    "We've formulated our test example; now our goal is to estimate the homography that maps the first set of points to the second set of points.\n",
    "\n",
    "### ****TODO****: Fill in the details of these routines (solveAXEqualsZero and calcBestHomography). "
   ]
  },
  {
   "cell_type": "code",
   "metadata": {
    "ExecuteTime": {
     "end_time": "2024-12-23T13:39:38.019024Z",
     "start_time": "2024-12-23T13:39:37.999813Z"
    }
   },
   "source": [
    "def solveAXEqualsZero(A):\n",
    "    # TODO: Write this routine - it should solve Ah = 0. You can do this using SVD. Consult your notes!\n",
    "    # Hint: SVD will be involved.\n",
    "\n",
    "    # Perform Singular Value Decomposition\n",
    "    U, S, V = np.linalg.svd(A)\n",
    "    \n",
    "    # The solution to Ah = 0 is the last column of V (or last row of V transposed, V_t)\n",
    "    h = (V.T)[:, -1]\n",
    "    \n",
    "    return h"
   ],
   "outputs": [],
   "execution_count": 5
  },
  {
   "cell_type": "code",
   "metadata": {
    "ExecuteTime": {
     "end_time": "2024-12-23T13:39:38.456014Z",
     "start_time": "2024-12-23T13:39:38.448697Z"
    }
   },
   "source": [
    "def calcBestHomography(pts1Cart, pts2Cart):\n",
    "    \n",
    "    # This function should apply the direct linear transform (DLT) algorithm to calculate the best \n",
    "    # homography that maps the cartesian points in pts1Cart to their corresonding matching cartesian poitns \n",
    "    # in pts2Cart.\n",
    "    \n",
    "    # This function calls solveAXEqualsZero. Make sure you are wary of how to reshape h into a 3 by 3 matrix. \n",
    "\n",
    "    n_points = pts1Cart.shape[1]\n",
    "    \n",
    "    pts1Hom = np.concatenate((pts1Cart, np.ones((1,pts1Cart.shape[1]))), axis=0)\n",
    "    \n",
    "    # Construct matrix A (size: n_points * 2 , 9)\n",
    "    A = np.zeros((n_points * 2, 9))\n",
    "\n",
    "    u = pts1Hom[0,:]\n",
    "    v = pts1Hom[1,:]\n",
    "    x = pts2Cart[0,:]\n",
    "    y = pts2Cart[1,:]\n",
    "\n",
    "    for i in range (n_points):\n",
    "        A[2*i] = np.array([0,0,0,-1*u[i], -1*v[i], -1, y[i]*u[i], y[i]*v[i], y[i]])\n",
    "        A[2*i+1] = np.array([u[i], v[i], 1, 0, 0, 0, -1*x[i]*u[i], -1*x[i]*v[i], -1*x[i]])\n",
    "    \n",
    "    # Solve Ah = 0 using solveAXEqualsZero and get h.\n",
    "    h= solveAXEqualsZero(A)\n",
    "    \n",
    "    # Reshape h into the matrix H, values of h go first into rows of H\n",
    "    H = h.reshape((3,3))\n",
    "    \n",
    "    return H"
   ],
   "outputs": [],
   "execution_count": 6
  },
  {
   "cell_type": "markdown",
   "metadata": {},
   "source": [
    "## Test time!\n",
    "\n",
    "Time to put it all together. \n",
    "\n",
    "Now we need a way of measuring how well our mapping does. To do this we will apply our estimated mapping, `HEst`, to `pts1Cart` and obtain estimated points `pts2EstCart`. We will compare `pts2EstCart` and `pts2Cart` using a sum of squared difference to see how well our solution at least approximates the transformed noisy points `pts2Cart`.\n",
    "\n",
    "Red points on the plot are the noisy points we observe, `pts2Cart`, and the magenta points are the transformed points, `pts2EstCart`, that we get when we apply our estimated homography on `pts1Cart`. The black lines represent the error between both points; if you've set `noiseLevel` to 0, then `sqDiff` should be 0 and the points should overlap perfectly."
   ]
  },
  {
   "cell_type": "code",
   "metadata": {
    "ExecuteTime": {
     "end_time": "2024-12-23T13:39:39.759709Z",
     "start_time": "2024-12-23T13:39:39.553055Z"
    }
   },
   "source": [
    "# Replace this with a call to the function calcBestHomography. You'll need to figure out which way around the \n",
    "# points go in the function, i.e. which direction this homography transforms points from and to. The ordering \n",
    "# is dead simple for now but acts as a simple exercise for what comes in later parts of this practical.\n",
    "HEst = calcBestHomography(pts1Cart, pts2Cart)\n",
    "\n",
    "# Apply estimated homography to points\n",
    "pts2EstHom = np.matmul(HEst,pts1Hom)\n",
    "\n",
    "# Convert back to Cartesian coordinates\n",
    "pts2EstCart = pts2EstHom[0:2,:] / np.tile([pts2EstHom[2,:]],(2,1))\n",
    "\n",
    "# Calculate the mean squared distance from actual points\n",
    "sqDiff = np.mean(sum((pts2Cart - pts2EstCart)**2))\n",
    "\n",
    "print(\"Squared difference between pts2Cart and pts2EstCart is: %.2f\" % sqDiff)\n",
    "\n",
    "# Draw figure with points before and after applying the estimated homography\n",
    "nPoint = pts1Cart.shape[1]\n",
    "\n",
    "# Plot a black line between pairs of actual points (red) and estimated points (magenta)\n",
    "for cPoint in range(0, nPoint):\n",
    "    plt.plot([pts2Cart[0,cPoint], pts2EstCart[0,cPoint]], [pts2Cart[1,cPoint], pts2EstCart[1,cPoint]],'k-')\n",
    "    plt.plot(pts2Cart[0,cPoint],pts2Cart[1,cPoint],'r.',pts2EstCart[0,cPoint],pts2EstCart[1,cPoint],'m.') \n",
    "\n",
    "plt.show()"
   ],
   "outputs": [
    {
     "name": "stdout",
     "output_type": "stream",
     "text": [
      "Squared difference between pts2Cart and pts2EstCart is: 0.71\n"
     ]
    },
    {
     "data": {
      "text/plain": [
       "<Figure size 640x480 with 1 Axes>"
      ],
      "image/png": "[encoded data removed]"
     },
     "metadata": {},
     "output_type": "display_data"
    }
   ],
   "execution_count": 7
  },
  {
   "metadata": {},
   "cell_type": "markdown",
   "source": "The plot above illustrates the differences between pairs of actual points and estimated points. The black line represents the distance between the estimated points (obtained by applying the estimated homography) and the ground truth points (calculated using the true homography). The optimal estimated homography matrix is determined by solving the equation \"Ah=0\". In this example, the noise level is set to 2.0. When the noise level is 0, the actual points and predicted points coincide."
  },
  {
   "cell_type": "markdown",
   "metadata": {},
   "source": [
    "## Other things **** TODO ****\n",
    "\n",
    "1: Convince yourself that the homography is ambiguous up to scale (by\n",
    "multiplying it by a constant factor and showing it does the same thing).\n",
    "Can you see why this is the case mathematically?\n",
    "\n",
    "2: Show empirically that your homography routine can EXACTLY map any four points to any\n",
    "other four points."
   ]
  },
  {
   "metadata": {},
   "cell_type": "markdown",
   "source": [
    "## Q1.\n",
    "If we multiply a constant factor k, we will have\n",
    "$$ \\lambda \\begin{bmatrix}\n",
    "x_i \\\\\n",
    "y_i \\\\\n",
    "1 \\\\\n",
    "\\end{bmatrix} \\times k = \n",
    "\\begin{bmatrix}\n",
    "\\phi_{11} & \\phi_{12} & \\phi_{13} \\\\\n",
    "\\phi_{21} & \\phi_{22} & \\phi_{23} \\\\\n",
    "\\phi_{31} & \\phi_{32} & \\phi_{33} \\\\\n",
    "\\end{bmatrix} \n",
    "\\begin{bmatrix}\n",
    "u_i \\\\\n",
    "v_i \\\\\n",
    "1 \\\\\n",
    "\\end{bmatrix} = \n",
    "k \\begin{bmatrix}\n",
    "\\phi_{11} & \\phi_{12} & \\phi_{13} \\\\\n",
    "\\phi_{21} & \\phi_{22} & \\phi_{23} \\\\\n",
    "\\phi_{31} & \\phi_{32} & \\phi_{33} \\\\\n",
    "\\end{bmatrix} \n",
    "\\begin{bmatrix}\n",
    "u_i \\\\\n",
    "v_i \\\\\n",
    "1 \\\\\n",
    "\\end{bmatrix} $$ \n",
    "\n",
    "This means that all the resulting coordinates are scaled by k. since we use homogeneous coordinates. Then as we converted back from homogeneous to cartesian coordinates. This will cancel out the scaling factor k. Hence, the result is identical to using the original homography matrix H. Therefore we can conclude that the homography is scale-insensitive.\n",
    "\n",
    "## Q2.\n",
    "\n",
    "The homography is a 3x3 matrix and the last entry is 1 (By normalisation). There are 8 unknown entries in this matrix (8 degree of freedom). We have any four points and then can construct 8 equations to get the 8 unknown entries to solve Ah=0. Therefore, our homography routine can exactly map any four points to any other four points.\n",
    "\n",
    "$$ \\begin{bmatrix}\n",
    "0 & 0 & 0 & -u_1 & -v_1 & -1 & y_1 u_1 & y_1 v_1 & y_1 \\\\\n",
    "u_1 & v_1 & 1 & 0 & 0 & 0 & -x_1 u_1 & -x_1 v_1 & -x_1 \\\\ \n",
    "0 & 0 & 0 & -u_2 & -v_2 & -1 & y_2 u_2 & y_2 v_2 & y_2 \\\\\n",
    "u_2 & v_2 & 1 & 0 & 0 & 0 & -x_2 u_2 & -x_2 v_2 & -x_2 \\\\\n",
    "0 & 0 & 0 & -u_3 & -v_3 & -1 & y_3 u_3 & y_3 v_3 & y_3 \\\\\n",
    "u_3 & v_3 & 1 & 0 & 0 & 0 & -x_3 u_3 & -x_3 v_3 & -x_3 \\\\ \n",
    "0 & 0 & 0 & -u_4 & -v_4 & -1 & y_4 u_4 & y_4 v_4 & y_4 \\\\   \n",
    "u_4 & v_4 & 1 & 0 & 0 & 0 & -x_4 u_4 & -x_4 v_4 & -x_4 \\\\ \n",
    "\\end{bmatrix} \\begin{bmatrix}\n",
    "\\phi_{11} \\\\\n",
    "\\phi_{12} \\\\\n",
    "\\phi_{13} \\\\\n",
    "\\phi_{21} \\\\\n",
    "\\phi_{22} \\\\\n",
    "\\phi_{23} \\\\\n",
    "\\phi_{31} \\\\\n",
    "\\phi_{32} \\\\\n",
    "\\phi_{33}\n",
    "\\end{bmatrix} = \\begin{bmatrix}\n",
    "0 \\\\\n",
    "0 \\\\\n",
    "0 \\\\\n",
    "0 \\\\\n",
    "0 \\\\\n",
    "0 \\\\\n",
    "0 \\\\\n",
    "0 \\\\\n",
    "0\n",
    "\\end{bmatrix}\n",
    "$$\n"
   ]
  },
  {
   "metadata": {},
   "cell_type": "markdown",
   "source": ""
  },
  {
   "metadata": {
    "ExecuteTime": {
     "end_time": "2024-12-09T15:09:54.914842Z",
     "start_time": "2024-12-09T15:09:54.910547Z"
    }
   },
   "cell_type": "code",
   "source": "",
   "outputs": [],
   "execution_count": null
  },
  {
   "metadata": {},
   "cell_type": "code",
   "outputs": [],
   "execution_count": null,
   "source": ""
  }
 ],
 "metadata": {
  "kernelspec": {
   "display_name": "MV22",
   "language": "python",
   "name": "python3"
  },
  "language_info": {
   "codemirror_mode": {
    "name": "ipython",
    "version": 3
   },
   "file_extension": ".py",
   "mimetype": "text/x-python",
   "name": "python",
   "nbconvert_exporter": "python",
   "pygments_lexer": "ipython3",
   "version": "3.10.8"
  }
 },
 "nbformat": 4,
 "nbformat_minor": 1
}
